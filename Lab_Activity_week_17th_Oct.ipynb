{
  "nbformat": 4,
  "nbformat_minor": 0,
  "metadata": {
    "colab": {
      "provenance": [],
      "toc_visible": true,
      "authorship_tag": "ABX9TyMii9kPuEyQwUY6m6rnD+CI",
      "include_colab_link": true
    },
    "kernelspec": {
      "name": "python3",
      "display_name": "Python 3"
    },
    "language_info": {
      "name": "python"
    }
  },
  "cells": [
    {
      "cell_type": "markdown",
      "metadata": {
        "id": "view-in-github",
        "colab_type": "text"
      },
      "source": [
        "<a href=\"https://colab.research.google.com/github/nerbrain/compiler_construction/blob/main/Lab_Activity_week_17th_Oct.ipynb\" target=\"_parent\"><img src=\"https://colab.research.google.com/assets/colab-badge.svg\" alt=\"Open In Colab\"/></a>"
      ]
    },
    {
      "cell_type": "markdown",
      "source": [
        "# Review what syntax analysis is and in a few words, describe what this phase of compiler construction entails."
      ],
      "metadata": {
        "id": "_yViUFlpD18i"
      }
    },
    {
      "cell_type": "markdown",
      "source": [
        "Syntax analysis is a second phase of the compiler design process that comes after lexical analysis in which the input is confirmed to follow the rules and structure of the formal grammar.\n",
        "\n"
      ],
      "metadata": {
        "id": "c-Oh1qthD3_y"
      }
    }
  ]
}